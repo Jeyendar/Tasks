{
  "nbformat": 4,
  "nbformat_minor": 0,
  "metadata": {
    "colab": {
      "name": "Task 1.ipynb",
      "provenance": [],
      "collapsed_sections": [],
      "authorship_tag": "ABX9TyM+r/t/iJIx7T2uYLo4WarF",
      "include_colab_link": true
    },
    "kernelspec": {
      "name": "python3",
      "display_name": "Python 3"
    },
    "language_info": {
      "name": "python"
    }
  },
  "cells": [
    {
      "cell_type": "markdown",
      "metadata": {
        "id": "view-in-github",
        "colab_type": "text"
      },
      "source": [
        "<a href=\"https://colab.research.google.com/github/Jeyendar/Tasks/blob/main/Task_1.ipynb\" target=\"_parent\"><img src=\"https://colab.research.google.com/assets/colab-badge.svg\" alt=\"Open In Colab\"/></a>"
      ]
    },
    {
      "cell_type": "markdown",
      "source": [
        "Registration and Login with Python"
      ],
      "metadata": {
        "id": "Hzs1II1KTPj-"
      }
    },
    {
      "cell_type": "code",
      "execution_count": 8,
      "metadata": {
        "id": "1L5h0wqKTOGQ"
      },
      "outputs": [],
      "source": [
        "total_Users = []\n",
        "\n",
        "# User Class that Provides the Structure for a User Object\n",
        "# This class is what is created on invoking the createUser() function\n",
        "class User:\n",
        "\n",
        "    # User Class Constructor, Defines Variable Names in a Global Reach within the Class Object\n",
        "    # Also appends the Object to the __total_Users array on it's creation\n",
        "    def __init__(self, name, surname, email, password):\n",
        "        self.name = name\n",
        "        self.surname = surname\n",
        "        self.email = email\n",
        "        self.password = password\n",
        "        total_Users.append(self)\n"
      ]
    },
    {
      "cell_type": "code",
      "source": [
        " # Returns all info about a given user object\n",
        "def getInfo(self):\n",
        "        print(self.name)\n",
        "        print(self.surname)\n",
        "        print(self.email)\n",
        "        print(self.password)\n",
        "    # Returns the Name of a User\n",
        "def getName(self):\n",
        "        return self.name\n",
        "    # Returns the Surname of a User\n",
        "def getSurname(self):\n",
        "        return self.surname\n",
        "    # Returns the Email of a User\n",
        "def getEmail(self):\n",
        "        return self.email\n",
        "    # Returns the Password of a Certain User\n",
        "def getPassword(self):\n",
        "        return self.password"
      ],
      "metadata": {
        "id": "aAj4nxweTb68"
      },
      "execution_count": 9,
      "outputs": []
    },
    {
      "cell_type": "code",
      "source": [
        "# Returns a new instantiation of the User Class for storage in a variable\n",
        "# Instantiations can be accessed later by accessing the __total_Users array\n",
        "def createUser(name, surname, email, password):\n",
        "    return User(name, surname, email, password)\n",
        "\n",
        "# Returns a new instantiation of the User Class based off of user inputs\n",
        "# Will return the User if the entries are valid, but will return False if they are not\n",
        "def inputUser(nameEntry, surnameEntry, emailEntry, passwordEntry):\n",
        "    name = str(input(nameEntry + \" : \"))\n",
        "    surname = str(input(surnameEntry + \" : \"))\n",
        "    email = str(input(emailEntry + \" : \"))\n",
        "    password = str(input(passwordEntry + \" : \"))\n",
        "    if validateInputs(name, surname, email, password):\n",
        "        return createUser(name, surname, email, password)\n",
        "    else:\n",
        "        return False\n",
        "\n",
        "# Validates the password of a specific user against a preset password\n",
        "# This will return  if the password is valid and False if it is not\n",
        "def validate_User(user, password):\n",
        "    if user.password == password:\n",
        "        return True\n",
        "    else:\n",
        "        return False\n"
      ],
      "metadata": {
        "id": "3-qLT4ySTdk2"
      },
      "execution_count": 10,
      "outputs": []
    },
    {
      "cell_type": "code",
      "source": [
        "#Lists all Users inside the total_Users array without displaying passwords\n",
        "def listUsers():\n",
        "    safeUsers = []\n",
        "    for user in total_Users:\n",
        "        safeUsers.append({user.name, user.surname, user.email})\n",
        "    return safeUsers\n",
        "\n",
        "# Lists all Users in the total_Users array while displaying passwords\n",
        "def unsafeList():\n",
        "    print(\"This function should only be used by Admins!\")\n",
        "    print(\"Make sure there are no other onlookers to this screen or it's output\")\n",
        "    print(\"Confirmation is required before displaying this information\")\n",
        "    conf = str(input(\"Are you sure you would like to display this information? (y/n)\"))\n",
        "    if conf == \"y\":\n",
        "        for user in total_Users:\n",
        "            print(user.name)\n",
        "            print(user.surname)\n",
        "            print(user.email)\n",
        "            print(user.password)\n",
        "            return True\n",
        "    else:\n",
        "        return False\n"
      ],
      "metadata": {
        "id": "efqdTXFeTgUa"
      },
      "execution_count": 11,
      "outputs": []
    },
    {
      "cell_type": "code",
      "source": [
        "# Checks all the Users to see if a password and email match is found\n",
        "# This will return True if a match is found, and False if not\n",
        "def userExists(email, password):\n",
        "    for user in total_Users:\n",
        "        if user.email == email and user.password == password:\n",
        "            return True\n",
        "        else:\n",
        "            return False"
      ],
      "metadata": {
        "id": "9LL_5mX0Th3w"
      },
      "execution_count": 12,
      "outputs": []
    },
    {
      "cell_type": "code",
      "source": [
        "# Removes a user based on their email as a primary key\n",
        "# Uses a list comprehension to reassign the total_Users array with a filter for the email\n",
        "def removeUser(email):\n",
        "    count = 0\n",
        "    indexStore = []\n",
        "    while count < len(total_Users):\n",
        "        if(total_Users[count].email == email):\n",
        "            indexStore.append(count)\n",
        "        count += 1\n",
        "    for index in indexStore:\n",
        "        del(total_Users[index])\n",
        "    return True"
      ],
      "metadata": {
        "id": "5Zhf6K8jTjMG"
      },
      "execution_count": 13,
      "outputs": []
    }
  ]
}